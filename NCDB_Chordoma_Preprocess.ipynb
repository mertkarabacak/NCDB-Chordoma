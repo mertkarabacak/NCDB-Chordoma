{
 "cells": [
  {
   "cell_type": "code",
   "execution_count": null,
   "id": "4AZmJ6jfWEN4",
   "metadata": {
    "colab": {
     "base_uri": "https://localhost:8080/"
    },
    "executionInfo": {
     "elapsed": 2069,
     "status": "ok",
     "timestamp": 1691791142305,
     "user": {
      "displayName": "Mert Karabacak",
      "userId": "14308977132914475412"
     },
     "user_tz": 240
    },
    "id": "4AZmJ6jfWEN4",
    "outputId": "4a0ecdb7-1d81-4e5d-9179-8bc0cb089ddd"
   },
   "outputs": [],
   "source": [
    "from google.colab import drive\n",
    "drive.mount('/content/drive')"
   ]
  },
  {
   "cell_type": "code",
   "execution_count": null,
   "id": "45bff18b",
   "metadata": {
    "executionInfo": {
     "elapsed": 900,
     "status": "ok",
     "timestamp": 1691791143191,
     "user": {
      "displayName": "Mert Karabacak",
      "userId": "14308977132914475412"
     },
     "user_tz": 240
    },
    "id": "45bff18b"
   },
   "outputs": [],
   "source": [
    "import numpy as np\n",
    "import pandas as pd\n",
    "from pandas.api.types import CategoricalDtype\n",
    "\n",
    "from sklearn.preprocessing import LabelEncoder\n",
    "from sklearn.preprocessing import MinMaxScaler\n",
    "from sklearn.impute import KNNImputer\n",
    "\n",
    "from matplotlib import pyplot as plt\n",
    "\n",
    "pd.set_option('display.max_rows', None)"
   ]
  },
  {
   "cell_type": "code",
   "execution_count": null,
   "id": "721c822b",
   "metadata": {
    "colab": {
     "base_uri": "https://localhost:8080/"
    },
    "executionInfo": {
     "elapsed": 2671,
     "status": "ok",
     "timestamp": 1691791145847,
     "user": {
      "displayName": "Mert Karabacak",
      "userId": "14308977132914475412"
     },
     "user_tz": 240
    },
    "id": "721c822b",
    "outputId": "59f67bc1-0bb7-4d2a-e67a-1c99698c55b8"
   },
   "outputs": [],
   "source": [
    "#Open csv file.\n",
    "\n",
    "data = pd.read_csv(\"/content/drive/MyDrive/NCDB-PUFs/Bone & Joint - 2020 (Labeled).csv\", index_col='PUF_CASE_ID')\n",
    "data.shape"
   ]
  },
  {
   "cell_type": "code",
   "execution_count": null,
   "id": "2ddf793b",
   "metadata": {
    "colab": {
     "base_uri": "https://localhost:8080/"
    },
    "executionInfo": {
     "elapsed": 50,
     "status": "ok",
     "timestamp": 1691791145848,
     "user": {
      "displayName": "Mert Karabacak",
      "userId": "14308977132914475412"
     },
     "user_tz": 240
    },
    "id": "2ddf793b",
    "outputId": "acc35033-8244-4cb9-f087-2d10e48865ce"
   },
   "outputs": [],
   "source": [
    "#See all columns.\n",
    "\n",
    "print(list(data.columns))"
   ]
  },
  {
   "cell_type": "code",
   "execution_count": null,
   "id": "a143c94a",
   "metadata": {
    "executionInfo": {
     "elapsed": 36,
     "status": "ok",
     "timestamp": 1691791145848,
     "user": {
      "displayName": "Mert Karabacak",
      "userId": "14308977132914475412"
     },
     "user_tz": 240
    },
    "id": "a143c94a"
   },
   "outputs": [],
   "source": [
    "#Define variables of interest (predictor variables, inclusion/exclusion criteria, outcomes of interest).\n",
    "\n",
    "variables = ['FACILITY_TYPE_CD', 'FACILITY_LOCATION_CD', 'AGE', 'SEX', 'RACE', 'SPANISH_HISPANIC_ORIGIN', 'INSURANCE_STATUS', 'CDCC_TOTAL_BEST', 'YEAR_OF_DIAGNOSIS', 'PRIMARY_SITE', 'HISTOLOGY', 'DIAGNOSTIC_CONFIRMATION', 'DIAGNOSTIC_BIOPSY', 'TUMOR_SIZE', 'CS_SITESPECIFIC_FACTOR_1', 'CS_SITESPECIFIC_FACTOR_2', 'TNM_PATH_N', 'TNM_PATH_M', 'RX_SUMM_SURG_PRIM_SITE', 'RX_SUMM_SURGICAL_MARGINS', 'PHASE_I_COMBINED', 'PHASE_II_COMBINED', 'PHASE_III_COMBINED', 'RX_SUMM_CHEMO', 'DX_LASTCONTACT_DEATH_MONTHS', 'PUF_VITAL_STATUS']"
   ]
  },
  {
   "cell_type": "code",
   "execution_count": null,
   "id": "a21a408c",
   "metadata": {
    "colab": {
     "base_uri": "https://localhost:8080/"
    },
    "executionInfo": {
     "elapsed": 35,
     "status": "ok",
     "timestamp": 1691791145848,
     "user": {
      "displayName": "Mert Karabacak",
      "userId": "14308977132914475412"
     },
     "user_tz": 240
    },
    "id": "a21a408c",
    "outputId": "56f3a944-6018-46c9-e73f-d2834291e775"
   },
   "outputs": [],
   "source": [
    "#Remove unwanted columns and check data shape.\n",
    "\n",
    "data = data[variables]\n",
    "\n",
    "data.shape"
   ]
  },
  {
   "cell_type": "markdown",
   "id": "cMoxIKULpbsk",
   "metadata": {
    "id": "cMoxIKULpbsk"
   },
   "source": [
    "#Inclusion Criteria"
   ]
  },
  {
   "cell_type": "code",
   "execution_count": null,
   "id": "120235be",
   "metadata": {
    "colab": {
     "base_uri": "https://localhost:8080/"
    },
    "executionInfo": {
     "elapsed": 27,
     "status": "ok",
     "timestamp": 1691791145848,
     "user": {
      "displayName": "Mert Karabacak",
      "userId": "14308977132914475412"
     },
     "user_tz": 240
    },
    "id": "120235be",
    "outputId": "fff30e40-bb54-4107-f84a-7733a152282c"
   },
   "outputs": [],
   "source": [
    "#Identify meningioma patients with ICD-O-3 codes.\n",
    "\n",
    "icd_codes = [9370, 9371, 9372]\n",
    "data = data[data[['HISTOLOGY']].isin(icd_codes).any(axis=1)]\n",
    "\n",
    "print('Number of included patients:', data.shape[0])"
   ]
  },
  {
   "cell_type": "code",
   "execution_count": null,
   "id": "p_7huaKCxJ8b",
   "metadata": {
    "colab": {
     "base_uri": "https://localhost:8080/"
    },
    "executionInfo": {
     "elapsed": 25,
     "status": "ok",
     "timestamp": 1691791145849,
     "user": {
      "displayName": "Mert Karabacak",
      "userId": "14308977132914475412"
     },
     "user_tz": 240
    },
    "id": "p_7huaKCxJ8b",
    "outputId": "ece29bb3-b724-466d-c588-c93242749a46"
   },
   "outputs": [],
   "source": [
    "#Apply inclusion criteria for diagnostic confirmation.\n",
    "\n",
    "data = data[data['DIAGNOSTIC_CONFIRMATION'] == 'Positive histology']\n",
    "data = data.drop(['DIAGNOSTIC_CONFIRMATION'], axis=1)\n",
    "\n",
    "print('Number of included patients:', data.shape[0])"
   ]
  },
  {
   "cell_type": "code",
   "execution_count": null,
   "id": "JPM-uhBeTPqn",
   "metadata": {
    "colab": {
     "base_uri": "https://localhost:8080/"
    },
    "executionInfo": {
     "elapsed": 21,
     "status": "ok",
     "timestamp": 1691791145849,
     "user": {
      "displayName": "Mert Karabacak",
      "userId": "14308977132914475412"
     },
     "user_tz": 240
    },
    "id": "JPM-uhBeTPqn",
    "outputId": "2914509e-a196-47e1-e270-d53be2146df3"
   },
   "outputs": [],
   "source": [
    "#Apply inclusion criteria for 'PRIMARY_SITE'.\n",
    "\n",
    "sites = ['C412', 'C414']\n",
    "data = data[data[['PRIMARY_SITE']].isin(sites).any(axis=1)]\n",
    "\n",
    "print('Number of included patients:', data.shape[0])"
   ]
  },
  {
   "cell_type": "code",
   "execution_count": null,
   "id": "cz0ZH8tOTNKI",
   "metadata": {
    "colab": {
     "base_uri": "https://localhost:8080/"
    },
    "executionInfo": {
     "elapsed": 18,
     "status": "ok",
     "timestamp": 1691791145849,
     "user": {
      "displayName": "Mert Karabacak",
      "userId": "14308977132914475412"
     },
     "user_tz": 240
    },
    "id": "cz0ZH8tOTNKI",
    "outputId": "d3aa915e-d355-47f3-ff9f-6d28d5a8cda6"
   },
   "outputs": [],
   "source": [
    "#Apply inclusion criteria for age.\n",
    "\n",
    "data = data[data['AGE'] > 18]\n",
    "\n",
    "print('Number of included patients:', data.shape[0])"
   ]
  },
  {
   "cell_type": "code",
   "execution_count": null,
   "id": "6noYIWJUhTM9",
   "metadata": {
    "executionInfo": {
     "elapsed": 16,
     "status": "ok",
     "timestamp": 1691791145850,
     "user": {
      "displayName": "Mert Karabacak",
      "userId": "14308977132914475412"
     },
     "user_tz": 240
    },
    "id": "6noYIWJUhTM9"
   },
   "outputs": [],
   "source": [
    "data['YEAR_OF_DIAGNOSIS'].value_counts(normalize=False, dropna=False)\n",
    "data = data.drop(['YEAR_OF_DIAGNOSIS'], axis=1)"
   ]
  },
  {
   "cell_type": "markdown",
   "id": "qp0orahPwCU-",
   "metadata": {
    "id": "qp0orahPwCU-"
   },
   "source": [
    "#Exclusion Criteria"
   ]
  },
  {
   "cell_type": "code",
   "execution_count": null,
   "id": "32oPmKOudDth",
   "metadata": {
    "colab": {
     "base_uri": "https://localhost:8080/"
    },
    "executionInfo": {
     "elapsed": 16,
     "status": "ok",
     "timestamp": 1691791145850,
     "user": {
      "displayName": "Mert Karabacak",
      "userId": "14308977132914475412"
     },
     "user_tz": 240
    },
    "id": "32oPmKOudDth",
    "outputId": "23a2bdb7-3c1f-4600-dc40-1cded0b3b009"
   },
   "outputs": [],
   "source": [
    "#Exclude patients without outcome information.\n",
    "\n",
    "before = data.shape[0]\n",
    "data = data[data['DX_LASTCONTACT_DEATH_MONTHS'].notna()]\n",
    "data = data[(data['PUF_VITAL_STATUS'] != 'Unknown')]\n",
    "after = data.shape[0]\n",
    "\n",
    "excluded = before - after\n",
    "print('Number of patients before exclusion: ', before)\n",
    "print('Number of patients after exclusion: ', after)\n",
    "print('Number of patients excluded with this criteria: ', excluded)"
   ]
  },
  {
   "cell_type": "markdown",
   "id": "NiWn9OMjwJeE",
   "metadata": {
    "id": "NiWn9OMjwJeE"
   },
   "source": [
    "#Renaming and Merging Response Values"
   ]
  },
  {
   "cell_type": "code",
   "execution_count": null,
   "id": "oLpHsxhlyEd0",
   "metadata": {
    "colab": {
     "base_uri": "https://localhost:8080/"
    },
    "executionInfo": {
     "elapsed": 257,
     "status": "ok",
     "timestamp": 1691791146094,
     "user": {
      "displayName": "Mert Karabacak",
      "userId": "14308977132914475412"
     },
     "user_tz": 240
    },
    "id": "oLpHsxhlyEd0",
    "outputId": "ff428d89-3277-4017-dc8b-26c2fdcdd7f5"
   },
   "outputs": [],
   "source": [
    "#Simplify the column 'HISTOLOGY'.\n",
    "\n",
    "data.loc[data['HISTOLOGY'] == 9370, 'HISTOLOGY'] = 'Chordoma, NOS'\n",
    "data.loc[data['HISTOLOGY'] == 9371, 'HISTOLOGY'] = 'Chondroid chordoma'\n",
    "data.loc[data['HISTOLOGY'] == 9372, 'HISTOLOGY'] = 'Dedifferentiated chordoma'\n",
    "\n",
    "data['HISTOLOGY'].value_counts(normalize=False, dropna=False)"
   ]
  },
  {
   "cell_type": "code",
   "execution_count": null,
   "id": "4_Rh4dKcWNNp",
   "metadata": {
    "colab": {
     "base_uri": "https://localhost:8080/"
    },
    "executionInfo": {
     "elapsed": 40,
     "status": "ok",
     "timestamp": 1691791146095,
     "user": {
      "displayName": "Mert Karabacak",
      "userId": "14308977132914475412"
     },
     "user_tz": 240
    },
    "id": "4_Rh4dKcWNNp",
    "outputId": "c60fc63b-689b-4c4f-9e39-db11b0303acf"
   },
   "outputs": [],
   "source": [
    "#Simplify the column 'HISTOLOGY'.\n",
    "\n",
    "data.loc[data['PRIMARY_SITE'] == 'C412', 'PRIMARY_SITE'] = 'Spine'\n",
    "data.loc[data['PRIMARY_SITE'] == 'C414', 'PRIMARY_SITE'] = 'Sacrum/Pelvis'\n",
    "\n",
    "data['PRIMARY_SITE'].value_counts(normalize=False, dropna=False)"
   ]
  },
  {
   "cell_type": "code",
   "execution_count": null,
   "id": "vEJdh89hFNkV",
   "metadata": {
    "colab": {
     "base_uri": "https://localhost:8080/"
    },
    "executionInfo": {
     "elapsed": 38,
     "status": "ok",
     "timestamp": 1691791146095,
     "user": {
      "displayName": "Mert Karabacak",
      "userId": "14308977132914475412"
     },
     "user_tz": 240
    },
    "id": "vEJdh89hFNkV",
    "outputId": "987139a8-fb6c-4351-ff99-9793b962c0b9"
   },
   "outputs": [],
   "source": [
    "#Simplify the column 'TUMOR_SIZE'.\n",
    "\n",
    "data.loc[data['TUMOR_SIZE'] == 'Microscopic foci only', 'TUMOR_SIZE'] = 'Unknown'\n",
    "data.loc[data['TUMOR_SIZE'] == 'No mass or tumor found', 'TUMOR_SIZE'] = 'Unknown'\n",
    "\n",
    "data['TUMOR_SIZE'].value_counts(normalize=False, dropna=False)"
   ]
  },
  {
   "cell_type": "code",
   "execution_count": null,
   "id": "P4r-S2Mrei5I",
   "metadata": {
    "colab": {
     "base_uri": "https://localhost:8080/"
    },
    "executionInfo": {
     "elapsed": 34,
     "status": "ok",
     "timestamp": 1691791146095,
     "user": {
      "displayName": "Mert Karabacak",
      "userId": "14308977132914475412"
     },
     "user_tz": 240
    },
    "id": "P4r-S2Mrei5I",
    "outputId": "8b46ecde-0982-4ad8-b906-aa97996dd24f"
   },
   "outputs": [],
   "source": [
    "#Simplify the column 'CS_SITESPECIFIC_FACTOR_1'.\n",
    "\n",
    "data.loc[data['CS_SITESPECIFIC_FACTOR_1'] == 'Microscopic foci only', 'CS_SITESPECIFIC_FACTOR_1'] = 'Unknown'\n",
    "data.loc[data['CS_SITESPECIFIC_FACTOR_1'] == 'No mass or tumor found', 'CS_SITESPECIFIC_FACTOR_1'] = 'Unknown'\n",
    "\n",
    "data['CS_SITESPECIFIC_FACTOR_1'].value_counts(normalize=False, dropna=False)"
   ]
  },
  {
   "cell_type": "code",
   "execution_count": null,
   "id": "0JFf6XcNejd5",
   "metadata": {
    "colab": {
     "base_uri": "https://localhost:8080/"
    },
    "executionInfo": {
     "elapsed": 31,
     "status": "ok",
     "timestamp": 1691791146095,
     "user": {
      "displayName": "Mert Karabacak",
      "userId": "14308977132914475412"
     },
     "user_tz": 240
    },
    "id": "0JFf6XcNejd5",
    "outputId": "b6a4f071-83cc-4996-c593-e5a65b76fc9e"
   },
   "outputs": [],
   "source": [
    "#Simplify the column 'TUMOR_SIZE'.\n",
    "\n",
    "data.loc[data['CS_SITESPECIFIC_FACTOR_2'] == 'Microscopic foci only', 'CS_SITESPECIFIC_FACTOR_2'] = 'Unknown'\n",
    "data.loc[data['CS_SITESPECIFIC_FACTOR_2'] == 'No mass or tumor found', 'CS_SITESPECIFIC_FACTOR_2'] = 'Unknown'\n",
    "\n",
    "data['CS_SITESPECIFIC_FACTOR_2'].value_counts(normalize=False, dropna=False)"
   ]
  },
  {
   "cell_type": "code",
   "execution_count": null,
   "id": "ZY_O8tdmZbT8",
   "metadata": {
    "colab": {
     "base_uri": "https://localhost:8080/"
    },
    "executionInfo": {
     "elapsed": 28,
     "status": "ok",
     "timestamp": 1691791146095,
     "user": {
      "displayName": "Mert Karabacak",
      "userId": "14308977132914475412"
     },
     "user_tz": 240
    },
    "id": "ZY_O8tdmZbT8",
    "outputId": "9a393081-c473-41e8-e429-ba208e9bafad"
   },
   "outputs": [],
   "source": [
    "#Simplify the column 'TNM_PATH_N'.\n",
    "\n",
    "data.loc[data['TNM_PATH_N'] == 'pNX', 'TNM_PATH_N'] = 'Unknown or not applicable'\n",
    "data.loc[data['TNM_PATH_N'] == 'pN0', 'TNM_PATH_N'] = 'No'\n",
    "data.loc[data['TNM_PATH_N'] == 'pN1', 'TNM_PATH_N'] = 'Yes'\n",
    "\n",
    "data['TNM_PATH_N'].value_counts(normalize=False, dropna=False)"
   ]
  },
  {
   "cell_type": "code",
   "execution_count": null,
   "id": "h5nG8aeZc0JA",
   "metadata": {
    "colab": {
     "base_uri": "https://localhost:8080/"
    },
    "executionInfo": {
     "elapsed": 25,
     "status": "ok",
     "timestamp": 1691791146095,
     "user": {
      "displayName": "Mert Karabacak",
      "userId": "14308977132914475412"
     },
     "user_tz": 240
    },
    "id": "h5nG8aeZc0JA",
    "outputId": "40b63227-2276-4590-fe71-0b3ecd28fa00"
   },
   "outputs": [],
   "source": [
    "#Simplify the column 'TNM_PATH_M'.\n",
    "\n",
    "data.loc[data['TNM_PATH_M'] == 'pMX', 'TNM_PATH_M'] = 'Unknown or not applicable'\n",
    "data.loc[data['TNM_PATH_M'] == 'pM0', 'TNM_PATH_M'] = 'No'\n",
    "data.loc[data['TNM_PATH_M'] == 'pM1', 'TNM_PATH_M'] = 'Yes'\n",
    "data.loc[data['TNM_PATH_M'] == 'pM1a', 'TNM_PATH_M'] = 'Yes'\n",
    "data.loc[data['TNM_PATH_M'] == 'pM1b', 'TNM_PATH_M'] = 'Yes'\n",
    "data.loc[data['TNM_PATH_M'] == 'c1', 'TNM_PATH_M'] = 'Yes'\n",
    "data.loc[data['TNM_PATH_M'] == 'c1A', 'TNM_PATH_M'] = 'Yes'\n",
    "data.loc[data['TNM_PATH_M'] == 'c1B', 'TNM_PATH_M'] = 'Yes'\n",
    "\n",
    "data['TNM_PATH_M'].value_counts(normalize=False, dropna=False)"
   ]
  },
  {
   "cell_type": "code",
   "execution_count": null,
   "id": "s45Wlf7uHAkp",
   "metadata": {
    "colab": {
     "base_uri": "https://localhost:8080/"
    },
    "executionInfo": {
     "elapsed": 23,
     "status": "ok",
     "timestamp": 1691791146096,
     "user": {
      "displayName": "Mert Karabacak",
      "userId": "14308977132914475412"
     },
     "user_tz": 240
    },
    "id": "s45Wlf7uHAkp",
    "outputId": "9d33723b-cd0d-471b-dadb-276465703079"
   },
   "outputs": [],
   "source": [
    "#Create the column 'RX_SUMM_SURG_PRIM_SITE'.\n",
    "\n",
    "data.loc[data['RX_SUMM_SURG_PRIM_SITE'] == 'Radical excision or resection of lesion with limb salvage', 'RX_SUMM_SURG_PRIM_SITE'] = 'Yes'\n",
    "data.loc[data['RX_SUMM_SURG_PRIM_SITE'] == 'Local excision', 'RX_SUMM_SURG_PRIM_SITE'] = 'Yes'\n",
    "data.loc[data['RX_SUMM_SURG_PRIM_SITE'] == 'Partial resection', 'RX_SUMM_SURG_PRIM_SITE'] = 'Yes'\n",
    "data.loc[data['RX_SUMM_SURG_PRIM_SITE'] == 'Surgery, NOS', 'RX_SUMM_SURG_PRIM_SITE'] = 'Yes'\n",
    "data.loc[data['RX_SUMM_SURG_PRIM_SITE'] == 'Local tumor destruction or excision, NOS', 'RX_SUMM_SURG_PRIM_SITE'] = 'Yes'\n",
    "data.loc[data['RX_SUMM_SURG_PRIM_SITE'] == 'Major amputation, NOS', 'RX_SUMM_SURG_PRIM_SITE'] = 'Yes'\n",
    "data.loc[data['RX_SUMM_SURG_PRIM_SITE'] == 'Partial amputation of limb', 'RX_SUMM_SURG_PRIM_SITE'] = 'Yes'\n",
    "data.loc[data['RX_SUMM_SURG_PRIM_SITE'] == 'Hindquarter, including ilium or hip bone', 'RX_SUMM_SURG_PRIM_SITE'] = 'Yes'\n",
    "data.loc[data['RX_SUMM_SURG_PRIM_SITE'] == 'Hemipelvectomy, NOS', 'RX_SUMM_SURG_PRIM_SITE'] = 'Yes'\n",
    "data.loc[data['RX_SUMM_SURG_PRIM_SITE'] == 'Internal hemipelvectomy', 'RX_SUMM_SURG_PRIM_SITE'] = 'Yes'\n",
    "data.loc[data['RX_SUMM_SURG_PRIM_SITE'] == 'Local tumor destruction', 'RX_SUMM_SURG_PRIM_SITE'] = 'Yes'\n",
    "data.loc[data['RX_SUMM_SURG_PRIM_SITE'] == 'Amputation of limb', 'RX_SUMM_SURG_PRIM_SITE'] = 'Yes'\n",
    "data.loc[data['RX_SUMM_SURG_PRIM_SITE'] == 'No surgery was performed', 'RX_SUMM_SURG_PRIM_SITE'] = 'No'\n",
    "\n",
    "data['RX_SUMM_SURG_PRIM_SITE'].value_counts(normalize=False, dropna=False)"
   ]
  },
  {
   "cell_type": "code",
   "execution_count": null,
   "id": "HOsG8Yu6bMPp",
   "metadata": {
    "colab": {
     "base_uri": "https://localhost:8080/"
    },
    "executionInfo": {
     "elapsed": 20,
     "status": "ok",
     "timestamp": 1691791146096,
     "user": {
      "displayName": "Mert Karabacak",
      "userId": "14308977132914475412"
     },
     "user_tz": 240
    },
    "id": "HOsG8Yu6bMPp",
    "outputId": "6d1f6257-7d8c-42c5-90a3-6111252b52c6"
   },
   "outputs": [],
   "source": [
    "#Simplify the column 'RX_SUMM_SURGICAL_MARGINS'.\n",
    "\n",
    "data.loc[data['RX_SUMM_SURGICAL_MARGINS'] == 'Margins not evaluable', 'RX_SUMM_SURGICAL_MARGINS'] = 'Unknown'\n",
    "data.loc[data['RX_SUMM_SURGICAL_MARGINS'] == 'Microscopic residual tumor', 'RX_SUMM_SURGICAL_MARGINS'] = 'Residual tumor'\n",
    "data.loc[data['RX_SUMM_SURGICAL_MARGINS'] == 'Macroscopic residual tumor', 'RX_SUMM_SURGICAL_MARGINS'] = 'Residual tumor'\n",
    "\n",
    "data['RX_SUMM_SURGICAL_MARGINS'].value_counts(normalize=False, dropna=False)"
   ]
  },
  {
   "cell_type": "code",
   "execution_count": null,
   "id": "Kyi0uOBvIspy",
   "metadata": {
    "colab": {
     "base_uri": "https://localhost:8080/"
    },
    "executionInfo": {
     "elapsed": 18,
     "status": "ok",
     "timestamp": 1691791146096,
     "user": {
      "displayName": "Mert Karabacak",
      "userId": "14308977132914475412"
     },
     "user_tz": 240
    },
    "id": "Kyi0uOBvIspy",
    "outputId": "58db4489-d221-408f-e36d-5884b701c29f"
   },
   "outputs": [],
   "source": [
    "#Simplify the column 'PHASE_I_COMBINED' in a new column 'PHASE_I_RADIOTHERAPY'.\n",
    "\n",
    "data.loc[data['PHASE_I_COMBINED'] == 'No radiation treatment', 'PHASE_I_RADIOTHERAPY'] = 'No'\n",
    "data.loc[data['PHASE_I_COMBINED'] == 'Unknown', 'PHASE_I_RADIOTHERAPY'] = 'Unknown'\n",
    "data['PHASE_I_RADIOTHERAPY'] = data['PHASE_I_RADIOTHERAPY'].fillna('Yes')\n",
    "data = data.drop(['PHASE_I_COMBINED'], axis=1)\n",
    "\n",
    "data['PHASE_I_RADIOTHERAPY'].value_counts(normalize=False, dropna=False)"
   ]
  },
  {
   "cell_type": "code",
   "execution_count": null,
   "id": "UIzJjD36NMsz",
   "metadata": {
    "colab": {
     "base_uri": "https://localhost:8080/"
    },
    "executionInfo": {
     "elapsed": 15,
     "status": "ok",
     "timestamp": 1691791146096,
     "user": {
      "displayName": "Mert Karabacak",
      "userId": "14308977132914475412"
     },
     "user_tz": 240
    },
    "id": "UIzJjD36NMsz",
    "outputId": "8f0a7d2c-4f67-44f5-cac9-4f7ef1ca4ad4"
   },
   "outputs": [],
   "source": [
    "#Simplify the column 'PHASE_II_COMBINED' in a new column 'PHASE_II_RADIOTHERAPY'.\n",
    "\n",
    "data.loc[data['PHASE_II_COMBINED'] == 'No radiation treatment', 'PHASE_II_RADIOTHERAPY'] = 'No'\n",
    "data.loc[data['PHASE_II_COMBINED'] == 'Unknown', 'PHASE_II_RADIOTHERAPY'] = 'Unknown'\n",
    "data['PHASE_II_RADIOTHERAPY'] = data['PHASE_II_RADIOTHERAPY'].fillna('Yes')\n",
    "data = data.drop(['PHASE_II_COMBINED'], axis=1)\n",
    "\n",
    "data['PHASE_II_RADIOTHERAPY'].value_counts(normalize=False, dropna=False)"
   ]
  },
  {
   "cell_type": "code",
   "execution_count": null,
   "id": "IUlQnJnBPJtN",
   "metadata": {
    "colab": {
     "base_uri": "https://localhost:8080/"
    },
    "executionInfo": {
     "elapsed": 12,
     "status": "ok",
     "timestamp": 1691791146096,
     "user": {
      "displayName": "Mert Karabacak",
      "userId": "14308977132914475412"
     },
     "user_tz": 240
    },
    "id": "IUlQnJnBPJtN",
    "outputId": "fac6bed3-8e05-4f31-cff9-67868a30a4d2"
   },
   "outputs": [],
   "source": [
    "#Simplify the column 'PHASE_III_COMBINED' in a new column 'PHASE_III_RADIOTHERAPY'.\n",
    "\n",
    "data.loc[data['PHASE_III_COMBINED'] == 'No radiation treatment', 'PHASE_III_RADIOTHERAPY'] = 'No'\n",
    "data.loc[data['PHASE_III_COMBINED'] == 'Unknown', 'PHASE_III_RADIOTHERAPY'] = 'Unknown'\n",
    "data['PHASE_III_RADIOTHERAPY'] = data['PHASE_III_RADIOTHERAPY'].fillna('Yes')\n",
    "data = data.drop(['PHASE_III_COMBINED'], axis=1)\n",
    "\n",
    "data['PHASE_III_RADIOTHERAPY'].value_counts(normalize=False, dropna=False)"
   ]
  },
  {
   "cell_type": "code",
   "execution_count": null,
   "id": "9JyThYAfPS03",
   "metadata": {
    "colab": {
     "base_uri": "https://localhost:8080/"
    },
    "executionInfo": {
     "elapsed": 10,
     "status": "ok",
     "timestamp": 1691791146096,
     "user": {
      "displayName": "Mert Karabacak",
      "userId": "14308977132914475412"
     },
     "user_tz": 240
    },
    "id": "9JyThYAfPS03",
    "outputId": "e74f7a94-36d3-4484-dabf-1a232467133a"
   },
   "outputs": [],
   "source": [
    "#Merge 'PHASE_I_RADIOTHERAPY', 'PHASE_II_RADIOTHERAPY', and 'PHASE_III_RADIOTHERAPY' in 'RADIATION_TREATMENT' column.\n",
    "\n",
    "data.loc[(data['PHASE_I_RADIOTHERAPY'] == 'Yes') | (data['PHASE_II_RADIOTHERAPY'] == 'Yes') | (data['PHASE_III_RADIOTHERAPY'] == 'Yes') , 'RADIATION_TREATMENT'] = 'Yes'\n",
    "data.loc[(data['PHASE_I_RADIOTHERAPY'] == 'No') & (data['PHASE_II_RADIOTHERAPY'] == 'No') & (data['PHASE_III_RADIOTHERAPY'] == 'No') , 'RADIATION_TREATMENT'] = 'No'\n",
    "data['RADIATION_TREATMENT'] = data['RADIATION_TREATMENT'].fillna('Unknown')\n",
    "data = data.drop(['PHASE_I_RADIOTHERAPY', 'PHASE_II_RADIOTHERAPY', 'PHASE_III_RADIOTHERAPY'], axis=1)\n",
    "\n",
    "data['RADIATION_TREATMENT'].value_counts(normalize=False, dropna=False)"
   ]
  },
  {
   "cell_type": "code",
   "execution_count": null,
   "id": "4_1WNHbLWuwh",
   "metadata": {
    "colab": {
     "base_uri": "https://localhost:8080/"
    },
    "executionInfo": {
     "elapsed": 25,
     "status": "ok",
     "timestamp": 1691791146425,
     "user": {
      "displayName": "Mert Karabacak",
      "userId": "14308977132914475412"
     },
     "user_tz": 240
    },
    "id": "4_1WNHbLWuwh",
    "outputId": "f349f2a9-261d-4e8d-f98f-fc5f6b594a28"
   },
   "outputs": [],
   "source": [
    "#Simplify the column 'RX_SUMM_CHEMO'.\n",
    "\n",
    "data.loc[data['RX_SUMM_CHEMO'] == 'None, chemotherapy was not part of the planned first course of therapy', 'RX_SUMM_CHEMO'] = 'No'\n",
    "data.loc[data['RX_SUMM_CHEMO'] == 'Single-agent chemotherapy administered as first course therapy', 'RX_SUMM_CHEMO'] = 'Yes'\n",
    "data.loc[data['RX_SUMM_CHEMO'] == 'Multiagent chemotherapy administered as first course therapy', 'RX_SUMM_CHEMO'] = 'Yes'\n",
    "data.loc[data['RX_SUMM_CHEMO'] == 'Chemotherapy was recommended by the physician, but was refused by the patient, a family member, or guardian', 'RX_SUMM_CHEMO'] = 'No'\n",
    "data.loc[data['RX_SUMM_CHEMO'] == 'Chemotherapy administered as first course therapy, but the type and number of agents is not documented in patient record', 'RX_SUMM_CHEMO'] = 'Yes'\n",
    "data.loc[data['RX_SUMM_CHEMO'] == 'Chemotherapy was not recommended/administered because it was contraindicated due to patient risk factors', 'RX_SUMM_CHEMO'] = 'No'\n",
    "data.loc[data['RX_SUMM_CHEMO'] == 'Chemotherapy was not administered because the patient died prior to planned or recommended therapy', 'RX_SUMM_CHEMO'] = 'No'\n",
    "data.loc[data['RX_SUMM_CHEMO'] == 'Chemotherapy was was recommended but was not administered as part of the first course of therapy', 'RX_SUMM_CHEMO'] = 'No'\n",
    "data.loc[data['RX_SUMM_CHEMO'] == 'Unknown', 'RX_SUMM_CHEMO'] = 'Unknown'\n",
    "\n",
    "data['RX_SUMM_CHEMO'].value_counts(normalize=False, dropna=False)"
   ]
  },
  {
   "cell_type": "code",
   "execution_count": null,
   "id": "vUXG_P3pptMJ",
   "metadata": {
    "executionInfo": {
     "elapsed": 22,
     "status": "ok",
     "timestamp": 1691791146425,
     "user": {
      "displayName": "Mert Karabacak",
      "userId": "14308977132914475412"
     },
     "user_tz": 240
    },
    "id": "vUXG_P3pptMJ"
   },
   "outputs": [],
   "source": [
    "#Save filtered data.\n",
    "\n",
    "data.to_csv('/content/drive/MyDrive/NCDB-Chordoma/data.csv')"
   ]
  },
  {
   "cell_type": "markdown",
   "id": "-jY4PIH9pxSL",
   "metadata": {
    "id": "-jY4PIH9pxSL"
   },
   "source": [
    "#Imputation"
   ]
  },
  {
   "cell_type": "code",
   "execution_count": null,
   "id": "11efb52b",
   "metadata": {
    "colab": {
     "base_uri": "https://localhost:8080/"
    },
    "executionInfo": {
     "elapsed": 22,
     "status": "ok",
     "timestamp": 1691791146425,
     "user": {
      "displayName": "Mert Karabacak",
      "userId": "14308977132914475412"
     },
     "user_tz": 240
    },
    "id": "11efb52b",
    "outputId": "6ef482a8-38eb-4866-855d-67cc4beb2bd8"
   },
   "outputs": [],
   "source": [
    "#Define numerical and categorical columns.\n",
    "\n",
    "num_cols = list(data.select_dtypes('number').columns)\n",
    "print('Numerical columns: {}'.format(num_cols), '\\n')\n",
    "\n",
    "cat_cols = list(data.select_dtypes('object').columns)\n",
    "print('Categorical columns: {}'.format(cat_cols))"
   ]
  },
  {
   "cell_type": "code",
   "execution_count": null,
   "id": "282afb2e",
   "metadata": {
    "executionInfo": {
     "elapsed": 17,
     "status": "ok",
     "timestamp": 1691791146425,
     "user": {
      "displayName": "Mert Karabacak",
      "userId": "14308977132914475412"
     },
     "user_tz": 240
    },
    "id": "282afb2e"
   },
   "outputs": [],
   "source": [
    "#Remove outcomes.\n",
    "\n",
    "num_cols_remove = ['DX_LASTCONTACT_DEATH_MONTHS']\n",
    "cat_cols_remove = ['PUF_VITAL_STATUS']\n",
    "\n",
    "num_cols = [i for i in num_cols if i not in num_cols_remove]\n",
    "cat_cols = [i for i in cat_cols if i not in cat_cols_remove]"
   ]
  },
  {
   "cell_type": "code",
   "execution_count": null,
   "id": "f7a6bff0",
   "metadata": {
    "colab": {
     "base_uri": "https://localhost:8080/"
    },
    "executionInfo": {
     "elapsed": 17,
     "status": "ok",
     "timestamp": 1691791146425,
     "user": {
      "displayName": "Mert Karabacak",
      "userId": "14308977132914475412"
     },
     "user_tz": 240
    },
    "id": "f7a6bff0",
    "outputId": "5d77c77a-aa2a-416f-ced2-44eb4cd0cf63"
   },
   "outputs": [],
   "source": [
    "#Check missing values for numerical columns.\n",
    "\n",
    "missing_num = data[num_cols].isnull().mean().round(4).mul(100).sort_values(ascending=False)\n",
    "\n",
    "print(missing_num, '\\n')\n",
    "\n",
    "missing_num = pd.DataFrame(missing_num)\n",
    "\n",
    "missing_num.columns = ['Value']\n",
    "\n",
    "missing_num = missing_num[missing_num['Value'] > 0]\n",
    "\n",
    "print('Numerical variables with missing values: ', list(missing_num.index), '\\n')\n",
    "\n",
    "print('Number of numerical variables with missing values: ', len(list(missing_num.index)), '\\n')\n",
    "\n",
    "missing_num = missing_num[missing_num['Value'] > 25]\n",
    "\n",
    "missing_num = list(missing_num.index)\n",
    "\n",
    "print('Excluded numerical variables: ', missing_num)"
   ]
  },
  {
   "cell_type": "code",
   "execution_count": null,
   "id": "e128cfb5",
   "metadata": {
    "executionInfo": {
     "elapsed": 14,
     "status": "ok",
     "timestamp": 1691791146426,
     "user": {
      "displayName": "Mert Karabacak",
      "userId": "14308977132914475412"
     },
     "user_tz": 240
    },
    "id": "e128cfb5"
   },
   "outputs": [],
   "source": [
    "#Drop numerical columns with missing values over 25%.\n",
    "\n",
    "data.drop(missing_num, axis=1, inplace=True)"
   ]
  },
  {
   "cell_type": "code",
   "execution_count": null,
   "id": "4756b292",
   "metadata": {
    "executionInfo": {
     "elapsed": 13,
     "status": "ok",
     "timestamp": 1691791146426,
     "user": {
      "displayName": "Mert Karabacak",
      "userId": "14308977132914475412"
     },
     "user_tz": 240
    },
    "id": "4756b292"
   },
   "outputs": [],
   "source": [
    "#Define new numerical columns.\n",
    "\n",
    "num_cols = [x for x in num_cols if x not in missing_num]"
   ]
  },
  {
   "cell_type": "code",
   "execution_count": null,
   "id": "ff8609cd",
   "metadata": {
    "executionInfo": {
     "elapsed": 13,
     "status": "ok",
     "timestamp": 1691791146426,
     "user": {
      "displayName": "Mert Karabacak",
      "userId": "14308977132914475412"
     },
     "user_tz": 240
    },
    "id": "ff8609cd"
   },
   "outputs": [],
   "source": [
    "#Impute missing numerical values.\n",
    "\n",
    "num_imputer = KNNImputer(n_neighbors=5, weights='uniform', metric='nan_euclidean')\n",
    "data[num_cols] = num_imputer.fit_transform(data[num_cols])"
   ]
  },
  {
   "cell_type": "code",
   "execution_count": null,
   "id": "01b6490e",
   "metadata": {
    "colab": {
     "base_uri": "https://localhost:8080/"
    },
    "executionInfo": {
     "elapsed": 13,
     "status": "ok",
     "timestamp": 1691791146426,
     "user": {
      "displayName": "Mert Karabacak",
      "userId": "14308977132914475412"
     },
     "user_tz": 240
    },
    "id": "01b6490e",
    "outputId": "5950efa3-dd71-406c-bc5a-adb9d3745180"
   },
   "outputs": [],
   "source": [
    "#Check missing values for categorical columns.\n",
    "\n",
    "missing_cat = data[cat_cols].isnull().mean().round(4).mul(100).sort_values(ascending=False)\n",
    "\n",
    "print(missing_cat, '\\n')\n",
    "\n",
    "missing_cat = pd.DataFrame(missing_cat)\n",
    "\n",
    "missing_cat.columns = ['Value']\n",
    "\n",
    "missing_cat = missing_cat[missing_cat['Value'] > 0]\n",
    "\n",
    "print('Categorical variables with missing values: ', list(missing_cat.index), '\\n')\n",
    "\n",
    "print('Number of categorical variables with missing values: ', len(list(missing_cat.index)), '\\n')\n",
    "\n",
    "missing_cat = missing_cat[missing_cat['Value'] > 25]\n",
    "\n",
    "missing_cat = list(missing_cat.index)\n",
    "\n",
    "print('Excluded categorical variables: ', missing_cat)"
   ]
  },
  {
   "cell_type": "code",
   "execution_count": null,
   "id": "89d3cdc4",
   "metadata": {
    "executionInfo": {
     "elapsed": 10,
     "status": "ok",
     "timestamp": 1691791146426,
     "user": {
      "displayName": "Mert Karabacak",
      "userId": "14308977132914475412"
     },
     "user_tz": 240
    },
    "id": "89d3cdc4"
   },
   "outputs": [],
   "source": [
    "#Drop categorical columns with missing values over 25%.\n",
    "\n",
    "data.drop(missing_cat, axis=1, inplace=True)"
   ]
  },
  {
   "cell_type": "code",
   "execution_count": null,
   "id": "680fe385",
   "metadata": {
    "executionInfo": {
     "elapsed": 10,
     "status": "ok",
     "timestamp": 1691791146427,
     "user": {
      "displayName": "Mert Karabacak",
      "userId": "14308977132914475412"
     },
     "user_tz": 240
    },
    "id": "680fe385"
   },
   "outputs": [],
   "source": [
    "#Define new categorical columns.\n",
    "\n",
    "cat_cols = [x for x in cat_cols if x not in missing_cat]"
   ]
  },
  {
   "cell_type": "code",
   "execution_count": null,
   "id": "9250b986",
   "metadata": {
    "executionInfo": {
     "elapsed": 10,
     "status": "ok",
     "timestamp": 1691791146427,
     "user": {
      "displayName": "Mert Karabacak",
      "userId": "14308977132914475412"
     },
     "user_tz": 240
    },
    "id": "9250b986"
   },
   "outputs": [],
   "source": [
    "#Replace missing categorical values with 'Unknown'.\n",
    "\n",
    "for col in cat_cols:\n",
    "    data[col].fillna(value='Unknown', inplace=True)"
   ]
  },
  {
   "cell_type": "code",
   "execution_count": null,
   "id": "4336ba8a",
   "metadata": {
    "executionInfo": {
     "elapsed": 10,
     "status": "ok",
     "timestamp": 1691791146427,
     "user": {
      "displayName": "Mert Karabacak",
      "userId": "14308977132914475412"
     },
     "user_tz": 240
    },
    "id": "4336ba8a"
   },
   "outputs": [],
   "source": [
    "#Save imputed data.\n",
    "\n",
    "data.to_csv('/content/drive/MyDrive/NCDB-Chordoma/imputed_data.csv')"
   ]
  },
  {
   "cell_type": "markdown",
   "id": "KrwBUN_YqMbV",
   "metadata": {
    "id": "KrwBUN_YqMbV"
   },
   "source": [
    "#Final Touches"
   ]
  },
  {
   "cell_type": "code",
   "execution_count": null,
   "id": "2289a865",
   "metadata": {
    "executionInfo": {
     "elapsed": 9,
     "status": "ok",
     "timestamp": 1691791146427,
     "user": {
      "displayName": "Mert Karabacak",
      "userId": "14308977132914475412"
     },
     "user_tz": 240
    },
    "id": "2289a865"
   },
   "outputs": [],
   "source": [
    "#Change variable names to field names.\n",
    "\n",
    "data_dictionary = pd.read_csv(\"/content/drive/MyDrive/NCDB-Chordoma/Data_Dictionary.csv\", encoding = 'latin1', index_col = None, low_memory = False)\n",
    "FieldNames = dict(zip(data_dictionary['Variable'], data_dictionary['Field Name']))\n",
    "data.columns = data.columns.map(FieldNames)"
   ]
  },
  {
   "cell_type": "code",
   "execution_count": null,
   "id": "cc12859a",
   "metadata": {
    "executionInfo": {
     "elapsed": 571,
     "status": "ok",
     "timestamp": 1691791146989,
     "user": {
      "displayName": "Mert Karabacak",
      "userId": "14308977132914475412"
     },
     "user_tz": 240
    },
    "id": "cc12859a"
   },
   "outputs": [],
   "source": [
    "#Manual label encoding.\n",
    "\n",
    "data.loc[data['Facility Type'] == 'Academic/Research Program', 'Facility Type'] = 0\n",
    "data.loc[data['Facility Type'] == 'Comprehensive Community Cancer Program', 'Facility Type'] = 1\n",
    "data.loc[data['Facility Type'] == 'Integrated Network Cancer Program', 'Facility Type'] = 2\n",
    "data.loc[data['Facility Type'] == 'Community Cancer Program', 'Facility Type'] = 3\n",
    "data.loc[data['Facility Type'] == 'Other or Unknown', 'Facility Type'] = 4\n",
    "\n",
    "data.loc[data['Facility Location'] == 'South Atlantic', 'Facility Location'] = 0\n",
    "data.loc[data['Facility Location'] == 'East North Central', 'Facility Location'] = 1\n",
    "data.loc[data['Facility Location'] == 'Middle Atlantic', 'Facility Location'] = 2\n",
    "data.loc[data['Facility Location'] == 'Pacific', 'Facility Location'] = 3\n",
    "data.loc[data['Facility Location'] == 'West South Central', 'Facility Location'] = 4\n",
    "data.loc[data['Facility Location'] == 'West North Central', 'Facility Location'] = 5\n",
    "data.loc[data['Facility Location'] == 'East South Central', 'Facility Location'] = 6\n",
    "data.loc[data['Facility Location'] == 'New England', 'Facility Location'] = 7\n",
    "data.loc[data['Facility Location'] == 'Mountain', 'Facility Location'] = 8\n",
    "data.loc[data['Facility Location'] == 'Unknown or Other', 'Facility Location'] = 9\n",
    "\n",
    "data.loc[data['Sex'] == 'Female', 'Sex'] = 0\n",
    "data.loc[data['Sex'] == 'Male', 'Sex'] = 1\n",
    "\n",
    "data.loc[data['Race'] == 'White', 'Race'] = 0\n",
    "data.loc[data['Race'] == 'Black', 'Race'] = 1\n",
    "data.loc[data['Race'] == 'Asian Indian or Pakistani', 'Race'] = 2\n",
    "data.loc[data['Race'] == 'American Indian, Aleutian, or Eskimo', 'Race'] = 3\n",
    "data.loc[data['Race'] == 'Chinese', 'Race'] = 4\n",
    "data.loc[data['Race'] == 'Filipino', 'Race'] = 5\n",
    "data.loc[data['Race'] == 'Vietnamese', 'Race'] = 6\n",
    "data.loc[data['Race'] == 'Hawaiian', 'Race'] = 7\n",
    "data.loc[data['Race'] == 'Japanese', 'Race'] = 8\n",
    "data.loc[data['Race'] == 'Korean', 'Race'] = 9\n",
    "data.loc[data['Race'] == 'Other or Unknown', 'Race'] = 10\n",
    "\n",
    "data.loc[data['Hispanic Ethnicity'] == 'No', 'Hispanic Ethnicity'] = 0\n",
    "data.loc[data['Hispanic Ethnicity'] == 'Yes', 'Hispanic Ethnicity'] = 1\n",
    "data.loc[data['Hispanic Ethnicity'] == 'Unknown', 'Hispanic Ethnicity'] = 2\n",
    "\n",
    "data.loc[data['Insurance Status'] == 'Private insurance', 'Insurance Status'] = 0\n",
    "data.loc[data['Insurance Status'] == 'Medicare', 'Insurance Status'] = 1\n",
    "data.loc[data['Insurance Status'] == 'Medicaid', 'Insurance Status'] = 2\n",
    "data.loc[data['Insurance Status'] == 'Other government', 'Insurance Status'] = 3\n",
    "data.loc[data['Insurance Status'] == 'Not insured', 'Insurance Status'] = 4\n",
    "data.loc[data['Insurance Status'] == 'Unknown', 'Insurance Status'] = 5\n",
    "\n",
    "data.loc[data['Charlson-Deyo Score'] == '0', 'Charlson-Deyo Score'] = 0\n",
    "data.loc[data['Charlson-Deyo Score'] == '1', 'Charlson-Deyo Score'] = 1\n",
    "data.loc[data['Charlson-Deyo Score'] == '2', 'Charlson-Deyo Score'] = 2\n",
    "data.loc[data['Charlson-Deyo Score'] == 'Greater than 3', 'Charlson-Deyo Score'] = 3\n",
    "\n",
    "data.loc[data['Diagnostic Biopsy'] == 'No', 'Diagnostic Biopsy'] = 0\n",
    "data.loc[data['Diagnostic Biopsy'] == 'Yes', 'Diagnostic Biopsy'] = 1\n",
    "data.loc[data['Diagnostic Biopsy'] == 'Unknown', 'Diagnostic Biopsy'] = 2\n",
    "\n",
    "data.loc[data['Primary Site'] == 'Spine', 'Primary Site'] = 0\n",
    "data.loc[data['Primary Site'] == 'Sacrum/Pelvis', 'Primary Site'] = 1\n",
    "\n",
    "data.loc[data['Histology'] == 'Chordoma, NOS', 'Histology'] = 0\n",
    "data.loc[data['Histology'] == 'Chondroid chordoma', 'Histology'] = 1\n",
    "data.loc[data['Histology'] == 'Dedifferentiated chordoma', 'Histology'] = 2\n",
    "\n",
    "data.loc[data['Tumor Size (Largest Diameter)'] == '< 2 cm', 'Tumor Size (Largest Diameter)'] = 0\n",
    "data.loc[data['Tumor Size (Largest Diameter)'] == '2 - 3.9 cm', 'Tumor Size (Largest Diameter)'] = 1\n",
    "data.loc[data['Tumor Size (Largest Diameter)'] == '4 - 5.9 cm', 'Tumor Size (Largest Diameter)'] = 2\n",
    "data.loc[data['Tumor Size (Largest Diameter)'] == '6 - 7.9 cm', 'Tumor Size (Largest Diameter)'] = 3\n",
    "data.loc[data['Tumor Size (Largest Diameter)'] == '8 - 9.9 cm', 'Tumor Size (Largest Diameter)'] = 4\n",
    "data.loc[data['Tumor Size (Largest Diameter)'] == '10 - 11.9 cm', 'Tumor Size (Largest Diameter)'] = 5\n",
    "data.loc[data['Tumor Size (Largest Diameter)'] == '12 - 13.9 cm', 'Tumor Size (Largest Diameter)'] = 6\n",
    "data.loc[data['Tumor Size (Largest Diameter)'] == '14 - 15.9 cm', 'Tumor Size (Largest Diameter)'] = 7\n",
    "data.loc[data['Tumor Size (Largest Diameter)'] == '16 - 17.9 cm', 'Tumor Size (Largest Diameter)'] = 8\n",
    "data.loc[data['Tumor Size (Largest Diameter)'] == '18 - 19.9 cm', 'Tumor Size (Largest Diameter)'] = 9\n",
    "data.loc[data['Tumor Size (Largest Diameter)'] == '> 20 cm', 'Tumor Size (Largest Diameter)'] = 10\n",
    "data.loc[data['Tumor Size (Largest Diameter)'] == 'Unknown', 'Tumor Size (Largest Diameter)'] = 11\n",
    "\n",
    "data.loc[data['Tumor Size (2nd Largest Diameter)'] == '< 2 cm', 'Tumor Size (2nd Largest Diameter)'] = 0\n",
    "data.loc[data['Tumor Size (2nd Largest Diameter)'] == '2 - 3.9 cm', 'Tumor Size (2nd Largest Diameter)'] = 1\n",
    "data.loc[data['Tumor Size (2nd Largest Diameter)'] == '4 - 5.9 cm', 'Tumor Size (2nd Largest Diameter)'] = 2\n",
    "data.loc[data['Tumor Size (2nd Largest Diameter)'] == '6 - 7.9 cm', 'Tumor Size (2nd Largest Diameter)'] = 3\n",
    "data.loc[data['Tumor Size (2nd Largest Diameter)'] == '8 - 9.9 cm', 'Tumor Size (2nd Largest Diameter)'] = 4\n",
    "data.loc[data['Tumor Size (2nd Largest Diameter)'] == '10 - 11.9 cm', 'Tumor Size (2nd Largest Diameter)'] = 5\n",
    "data.loc[data['Tumor Size (2nd Largest Diameter)'] == '12 - 13.9 cm', 'Tumor Size (2nd Largest Diameter)'] = 6\n",
    "data.loc[data['Tumor Size (2nd Largest Diameter)'] == '14 - 15.9 cm', 'Tumor Size (2nd Largest Diameter)'] = 7\n",
    "data.loc[data['Tumor Size (2nd Largest Diameter)'] == '16 - 17.9 cm', 'Tumor Size (2nd Largest Diameter)'] = 8\n",
    "data.loc[data['Tumor Size (2nd Largest Diameter)'] == '18 - 19.9 cm', 'Tumor Size (2nd Largest Diameter)'] = 9\n",
    "data.loc[data['Tumor Size (2nd Largest Diameter)'] == '> 20 cm', 'Tumor Size (2nd Largest Diameter)'] = 10\n",
    "data.loc[data['Tumor Size (2nd Largest Diameter)'] == 'Unknown', 'Tumor Size (2nd Largest Diameter)'] = 11\n",
    "\n",
    "data.loc[data['Tumor Size (3rd Largest Diameter)'] == '< 2 cm', 'Tumor Size (3rd Largest Diameter)'] = 0\n",
    "data.loc[data['Tumor Size (3rd Largest Diameter)'] == '2 - 3.9 cm', 'Tumor Size (3rd Largest Diameter)'] = 1\n",
    "data.loc[data['Tumor Size (3rd Largest Diameter)'] == '4 - 5.9 cm', 'Tumor Size (3rd Largest Diameter)'] = 2\n",
    "data.loc[data['Tumor Size (3rd Largest Diameter)'] == '6 - 7.9 cm', 'Tumor Size (3rd Largest Diameter)'] = 3\n",
    "data.loc[data['Tumor Size (3rd Largest Diameter)'] == '8 - 9.9 cm', 'Tumor Size (3rd Largest Diameter)'] = 4\n",
    "data.loc[data['Tumor Size (3rd Largest Diameter)'] == '10 - 11.9 cm', 'Tumor Size (3rd Largest Diameter)'] = 5\n",
    "data.loc[data['Tumor Size (3rd Largest Diameter)'] == '12 - 13.9 cm', 'Tumor Size (3rd Largest Diameter)'] = 6\n",
    "data.loc[data['Tumor Size (3rd Largest Diameter)'] == '14 - 15.9 cm', 'Tumor Size (3rd Largest Diameter)'] = 7\n",
    "data.loc[data['Tumor Size (3rd Largest Diameter)'] == '16 - 17.9 cm', 'Tumor Size (3rd Largest Diameter)'] = 8\n",
    "data.loc[data['Tumor Size (3rd Largest Diameter)'] == '18 - 19.9 cm', 'Tumor Size (3rd Largest Diameter)'] = 9\n",
    "data.loc[data['Tumor Size (3rd Largest Diameter)'] == '> 20 cm', 'Tumor Size (3rd Largest Diameter)'] = 10\n",
    "data.loc[data['Tumor Size (3rd Largest Diameter)'] == 'Unknown', 'Tumor Size (3rd Largest Diameter)'] = 11\n",
    "\n",
    "data.loc[data['Regional Lymph Nodes'] == 'No', 'Regional Lymph Nodes'] = 0\n",
    "data.loc[data['Regional Lymph Nodes'] == 'Yes', 'Regional Lymph Nodes'] = 1\n",
    "data.loc[data['Regional Lymph Nodes'] == 'Unknown or not applicable', 'Regional Lymph Nodes'] = 2\n",
    "\n",
    "data.loc[data['Distant Metastasis'] == 'No', 'Distant Metastasis'] = 0\n",
    "data.loc[data['Distant Metastasis'] == 'Yes', 'Distant Metastasis'] = 1\n",
    "data.loc[data['Distant Metastasis'] == 'Unknown or not applicable', 'Distant Metastasis'] = 2\n",
    "\n",
    "data.loc[data['Surgery'] == 'No', 'Surgery'] = 0\n",
    "data.loc[data['Surgery'] == 'Yes', 'Surgery'] = 1\n",
    "data.loc[data['Surgery'] == 'Unknown', 'Surgery'] = 2\n",
    "\n",
    "data.loc[data['Surgical Margins'] == 'No residual tumor', 'Surgical Margins'] = 0\n",
    "data.loc[data['Surgical Margins'] == 'Residual tumor', 'Surgical Margins'] = 1\n",
    "data.loc[data['Surgical Margins'] == 'No surgery was performed', 'Surgical Margins'] = 2\n",
    "data.loc[data['Surgical Margins'] == 'Unknown', 'Surgical Margins'] = 3\n",
    "\n",
    "data.loc[data['Radiation Treatment'] == 'No', 'Radiation Treatment'] = 0\n",
    "data.loc[data['Radiation Treatment'] == 'Yes', 'Radiation Treatment'] = 1\n",
    "data.loc[data['Radiation Treatment'] == 'Unknown', 'Radiation Treatment'] = 2\n",
    "\n",
    "data.loc[data['Chemotherapy'] == 'No', 'Chemotherapy'] = 0\n",
    "data.loc[data['Chemotherapy'] == 'Yes', 'Chemotherapy'] = 1\n",
    "data.loc[data['Chemotherapy'] == 'Unknown', 'Chemotherapy'] = 2\n",
    "\n",
    "columns = ['Facility Type', 'Facility Location', 'Age at Diagnosis', 'Sex', 'Race', 'Hispanic Ethnicity', 'Insurance Status', 'Charlson-Deyo Score', 'Histology', 'Primary Site', 'Diagnostic Biopsy', 'Tumor Size (Largest Diameter)', 'Tumor Size (2nd Largest Diameter)', 'Tumor Size (3rd Largest Diameter)', 'Regional Lymph Nodes', 'Distant Metastasis', 'Surgery', 'Surgical Margins', 'Radiation Treatment', 'Chemotherapy']\n",
    "\n",
    "for column in columns:\n",
    "    data[column] = data[column].astype(int)"
   ]
  },
  {
   "cell_type": "code",
   "execution_count": null,
   "id": "c5490d9b",
   "metadata": {
    "executionInfo": {
     "elapsed": 12,
     "status": "ok",
     "timestamp": 1691791146989,
     "user": {
      "displayName": "Mert Karabacak",
      "userId": "14308977132914475412"
     },
     "user_tz": 240
    },
    "id": "c5490d9b"
   },
   "outputs": [],
   "source": [
    "#Save data for Gradio.\n",
    "\n",
    "gradio = data.copy()\n",
    "\n",
    "gradio.columns = gradio.columns.str.replace(' ', '_', regex=True)\n",
    "gradio.columns = gradio.columns.str.replace('-', '', regex=True)\n",
    "\n",
    "gradio.to_csv('/content/drive/MyDrive/NCDB-Chordoma/gradio_data.csv')"
   ]
  },
  {
   "cell_type": "code",
   "execution_count": null,
   "id": "1ENABv7xqmWs",
   "metadata": {
    "executionInfo": {
     "elapsed": 12,
     "status": "ok",
     "timestamp": 1691791146990,
     "user": {
      "displayName": "Mert Karabacak",
      "userId": "14308977132914475412"
     },
     "user_tz": 240
    },
    "id": "1ENABv7xqmWs"
   },
   "outputs": [],
   "source": [
    "#Save final data.\n",
    "\n",
    "data.to_csv('/content/drive/MyDrive/NCDB-Chordoma/final_data.csv')"
   ]
  }
 ],
 "metadata": {
  "colab": {
   "machine_shape": "hm",
   "provenance": [
    {
     "file_id": "1pIXjZo5nwNJ-IGW7ZgC-VvKHmWg_uIdt",
     "timestamp": 1691778319355
    },
    {
     "file_id": "1Os7r6kq42uEWESOduq_gWdKQsCqFBd9N",
     "timestamp": 1690314436152
    },
    {
     "file_id": "1e8Fpu-pe7O0EfheLaEzbnWzODzKTABOB",
     "timestamp": 1690299650366
    },
    {
     "file_id": "1ivwXHlUcLdC8WZQo6Q6hf-MYahSQ88lq",
     "timestamp": 1681082527584
    },
    {
     "file_id": "1qkdhVqVX240vYpWuEeJY_DKFacob5ztC",
     "timestamp": 1680800063857
    },
    {
     "file_id": "1ggfw-q5XTxdzPn9nnqb4pk7uxKjkpaga",
     "timestamp": 1672250375960
    },
    {
     "file_id": "1g8wyPIRJw1XKU7zF_T4SgLWpAzCOvEQJ",
     "timestamp": 1671643302648
    },
    {
     "file_id": "1Nau1T8kYhu_teXcKnDyTzUTVNIRcruHN",
     "timestamp": 1671032966766
    },
    {
     "file_id": "1fRg4CV3EaBnihAqddzIHeCaU4bmkgUi3",
     "timestamp": 1669913930106
    },
    {
     "file_id": "1AXH9JUz2PztvXr-hpN3EzKrUTEbGW2Si",
     "timestamp": 1669306790787
    }
   ]
  },
  "environment": {
   "kernel": "python3",
   "name": "common-cpu.m100",
   "type": "gcloud",
   "uri": "gcr.io/deeplearning-platform-release/base-cpu:m100"
  },
  "gpuClass": "standard",
  "kernelspec": {
   "display_name": "Python 3 (ipykernel)",
   "language": "python",
   "name": "python3"
  },
  "language_info": {
   "codemirror_mode": {
    "name": "ipython",
    "version": 3
   },
   "file_extension": ".py",
   "mimetype": "text/x-python",
   "name": "python",
   "nbconvert_exporter": "python",
   "pygments_lexer": "ipython3",
   "version": "3.9.6"
  }
 },
 "nbformat": 4,
 "nbformat_minor": 5
}
